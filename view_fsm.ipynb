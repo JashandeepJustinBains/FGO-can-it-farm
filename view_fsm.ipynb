{
 "cells": [
  {
   "cell_type": "code",
   "execution_count": null,
   "id": "3a7f4e9e",
   "metadata": {},
   "outputs": [],
   "source": [
    "import json\n",
    "import os\n",
    "from IPython.display import display, Image, HTML\n",
    "\n",
    "# Map collectionNo to image file or URL (update these URLs or paths as needed)\n",
    "servant_images = {\n",
    "    364: \"https://static.wikia.nocookie.net/fategrandorder/images/7/7e/364.png\",\n",
    "    284: \"https://static.wikia.nocookie.net/fategrandorder/images/2/2e/284.png\",\n",
    "    316: \"https://static.wikia.nocookie.net/fategrandorder/images/3/3e/316.png\"\n",
    "}\n",
    "\n",
    "with open(\"fsm_path_details.json\", \"r\", encoding=\"utf-8\") as f:\n",
    "    data = json.load(f)\n",
    "\n",
    "def show_turn(turn_data):\n",
    "    print(f\"Turn: {turn_data['turn']} | Action: {turn_data['action']}\")\n",
    "    for servant in turn_data['servants']:\n",
    "        img_url = servant_images.get(servant['collectionNo'], None)\n",
    "        if img_url:\n",
    "            display(Image(url=img_url, width=100))\n",
    "        print(f\"Servant {servant['collectionNo']}:\")\n",
    "        print(f\"  Attack: {servant['attack']}\")\n",
    "        print(f\"  NP Level: {servant['np_level']}\")\n",
    "        print(f\"  NP Gauge: {servant['np_gauge']}\")\n",
    "        print(f\"  Damage: {servant['damage']}\")\n",
    "        print(\"-\" * 30)\n",
    "\n",
    "# Example: Show all turns\n",
    "for turn_data in data:\n",
    "    show_turn(turn_data)"
   ]
  }
 ],
 "metadata": {
  "language_info": {
   "name": "python"
  }
 },
 "nbformat": 4,
 "nbformat_minor": 5
}
