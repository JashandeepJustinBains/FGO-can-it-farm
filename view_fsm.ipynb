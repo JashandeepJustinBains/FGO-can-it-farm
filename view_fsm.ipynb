{
 "cells": [
  {
   "cell_type": "code",
   "execution_count": 1,
   "id": "3a7f4e9e",
   "metadata": {},
   "outputs": [
    {
     "name": "stdout",
     "output_type": "stream",
     "text": [
      "Turn: 0 | Action: None\n"
     ]
    },
    {
     "data": {
      "text/html": [
       "<img src=\"https://static.wikia.nocookie.net/fategrandorder/images/7/7e/364.png\" width=\"100\"/>"
      ],
      "text/plain": [
       "<IPython.core.display.Image object>"
      ]
     },
     "metadata": {},
     "output_type": "display_data"
    },
    {
     "name": "stdout",
     "output_type": "stream",
     "text": [
      "Servant 364:\n",
      "  Attack: 3000\n",
      "  NP Level: 1\n",
      "  NP Gauge: 20\n",
      "  Damage: None\n",
      "------------------------------\n"
     ]
    },
    {
     "data": {
      "text/html": [
       "<img src=\"https://static.wikia.nocookie.net/fategrandorder/images/2/2e/284.png\" width=\"100\"/>"
      ],
      "text/plain": [
       "<IPython.core.display.Image object>"
      ]
     },
     "metadata": {},
     "output_type": "display_data"
    },
    {
     "name": "stdout",
     "output_type": "stream",
     "text": [
      "Servant 284:\n",
      "  Attack: 0\n",
      "  NP Level: 1\n",
      "  NP Gauge: 0\n",
      "  Damage: None\n",
      "------------------------------\n"
     ]
    },
    {
     "data": {
      "text/html": [
       "<img src=\"https://static.wikia.nocookie.net/fategrandorder/images/2/2e/284.png\" width=\"100\"/>"
      ],
      "text/plain": [
       "<IPython.core.display.Image object>"
      ]
     },
     "metadata": {},
     "output_type": "display_data"
    },
    {
     "name": "stdout",
     "output_type": "stream",
     "text": [
      "Servant 284:\n",
      "  Attack: 0\n",
      "  NP Level: 1\n",
      "  NP Gauge: 0\n",
      "  Damage: None\n",
      "------------------------------\n"
     ]
    },
    {
     "data": {
      "text/html": [
       "<img src=\"https://static.wikia.nocookie.net/fategrandorder/images/3/3e/316.png\" width=\"100\"/>"
      ],
      "text/plain": [
       "<IPython.core.display.Image object>"
      ]
     },
     "metadata": {},
     "output_type": "display_data"
    },
    {
     "name": "stdout",
     "output_type": "stream",
     "text": [
      "Servant 316:\n",
      "  Attack: 0\n",
      "  NP Level: 1\n",
      "  NP Gauge: 0\n",
      "  Damage: None\n",
      "------------------------------\n",
      "Turn: 0 | Action: None\n",
      "Servant 364 | ATK: 3000 | NP Level: 1 | NP Gauge: 20 | Damage: None\n",
      "Servant 284 | ATK: 0 | NP Level: 1 | NP Gauge: 0 | Damage: None\n",
      "Servant 284 | ATK: 0 | NP Level: 1 | NP Gauge: 0 | Damage: None\n",
      "Servant 316 | ATK: 0 | NP Level: 1 | NP Gauge: 0 | Damage: None\n"
     ]
    }
   ],
   "source": [
    "import json\n",
    "from IPython.display import display, Image, HTML\n",
    "\n",
    "# Map collectionNo to image file or URL (update these URLs or paths as needed)\n",
    "servant_images = {\n",
    "    364: \"https://static.wikia.nocookie.net/fategrandorder/images/7/7e/364.png\",\n",
    "    284: \"https://static.wikia.nocookie.net/fategrandorder/images/2/2e/284.png\",\n",
    "    316: \"https://static.wikia.nocookie.net/fategrandorder/images/3/3e/316.png\"\n",
    "}\n",
    "\n",
    "with open(\"fsm_path_details.json\", \"r\", encoding=\"utf-8\") as f:\n",
    "    data = json.load(f)\n",
    "\n",
    "def show_turn(turn_data):\n",
    "    print(f\"Turn: {turn_data['turn']} | Action: {turn_data['action']}\")\n",
    "    for servant in turn_data['servants']:\n",
    "        img_url = servant_images.get(servant['collectionNo'], None)\n",
    "        if img_url:\n",
    "            display(Image(url=img_url, width=100))\n",
    "        print(f\"Servant {servant['collectionNo']}:\")\n",
    "        print(f\"  Attack: {servant['attack']}\")\n",
    "        print(f\"  NP Level: {servant['np_level']}\")\n",
    "        print(f\"  NP Gauge: {servant['np_gauge']}\")\n",
    "        print(f\"  Damage: {servant['damage']}\")\n",
    "        print(\"-\" * 30)\n",
    "\n",
    "# Display the first turn for visual output\n",
    "show_turn(data[0])\n",
    "\n",
    "# Show all servant statistics for a selected turn (e.g., turn 0) on a single line per servant\n",
    "turn_x = 0  # Change this value to view a different turn\n",
    "print(f\"Turn: {data[turn_x]['turn']} | Action: {data[turn_x]['action']}\")\n",
    "for servant in data[turn_x]['servants']:\n",
    "    stats = f\"Servant {servant['collectionNo']} | ATK: {servant['attack']} | NP Level: {servant['np_level']} | NP Gauge: {servant['np_gauge']} | Damage: {servant['damage']}\"\n",
    "    print(stats)"
   ]
  },
  {
   "cell_type": "code",
   "execution_count": 2,
   "id": "9a56e3b6",
   "metadata": {},
   "outputs": [
    {
     "name": "stdout",
     "output_type": "stream",
     "text": [
      "Turn: 0 | Action: None\n"
     ]
    },
    {
     "data": {
      "text/html": [
       "<img src=\"https://static.wikia.nocookie.net/fategrandorder/images/7/7e/364.png\" width=\"100\"/>"
      ],
      "text/plain": [
       "<IPython.core.display.Image object>"
      ]
     },
     "metadata": {},
     "output_type": "display_data"
    },
    {
     "name": "stdout",
     "output_type": "stream",
     "text": [
      "Servant 364:\n",
      "  Attack: 3000\n",
      "  NP Level: 1\n",
      "  NP Gauge: 20\n",
      "  Damage: None\n",
      "------------------------------\n"
     ]
    },
    {
     "data": {
      "text/html": [
       "<img src=\"https://static.wikia.nocookie.net/fategrandorder/images/2/2e/284.png\" width=\"100\"/>"
      ],
      "text/plain": [
       "<IPython.core.display.Image object>"
      ]
     },
     "metadata": {},
     "output_type": "display_data"
    },
    {
     "name": "stdout",
     "output_type": "stream",
     "text": [
      "Servant 284:\n",
      "  Attack: 0\n",
      "  NP Level: 1\n",
      "  NP Gauge: 0\n",
      "  Damage: None\n",
      "------------------------------\n"
     ]
    },
    {
     "data": {
      "text/html": [
       "<img src=\"https://static.wikia.nocookie.net/fategrandorder/images/2/2e/284.png\" width=\"100\"/>"
      ],
      "text/plain": [
       "<IPython.core.display.Image object>"
      ]
     },
     "metadata": {},
     "output_type": "display_data"
    },
    {
     "name": "stdout",
     "output_type": "stream",
     "text": [
      "Servant 284:\n",
      "  Attack: 0\n",
      "  NP Level: 1\n",
      "  NP Gauge: 0\n",
      "  Damage: None\n",
      "------------------------------\n"
     ]
    },
    {
     "data": {
      "text/html": [
       "<img src=\"https://static.wikia.nocookie.net/fategrandorder/images/3/3e/316.png\" width=\"100\"/>"
      ],
      "text/plain": [
       "<IPython.core.display.Image object>"
      ]
     },
     "metadata": {},
     "output_type": "display_data"
    },
    {
     "name": "stdout",
     "output_type": "stream",
     "text": [
      "Servant 316:\n",
      "  Attack: 0\n",
      "  NP Level: 1\n",
      "  NP Gauge: 0\n",
      "  Damage: None\n",
      "------------------------------\n"
     ]
    }
   ],
   "source": [
    "# Display the first turn for visual output\n",
    "show_turn(data[0])"
   ]
  },
  {
   "cell_type": "code",
   "execution_count": null,
   "id": "32ae0074",
   "metadata": {},
   "outputs": [
    {
     "name": "stdout",
     "output_type": "stream",
     "text": [
      "Turn: 0 | Action: None\n",
      "Servant 364 Damage: None\n",
      "Servant 284 Damage: None\n",
      "Servant 284 Damage: None\n",
      "Servant 316 Damage: None\n"
     ]
    }
   ],
   "source": [
    "# Show string representation of each enemy for the selected turn (e.g., turn 0)\n",
    "turn_x = 0  # Change this value to view a different turn\n",
    "print(f\"Turn: {data[turn_x]['turn']} | Action: {data[turn_x]['action']}\")\n",
    "for enemy in data[turn_x].get('enemies', []):\n",
    "    print(enemy)"
   ]
  }
 ],
 "metadata": {
  "kernelspec": {
   "display_name": "env (3.12.7)",
   "language": "python",
   "name": "python3"
  },
  "language_info": {
   "codemirror_mode": {
    "name": "ipython",
    "version": 3
   },
   "file_extension": ".py",
   "mimetype": "text/x-python",
   "name": "python",
   "nbconvert_exporter": "python",
   "pygments_lexer": "ipython3",
   "version": "3.12.7"
  }
 },
 "nbformat": 4,
 "nbformat_minor": 5
}
